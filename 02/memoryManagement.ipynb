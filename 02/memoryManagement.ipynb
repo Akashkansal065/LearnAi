{
 "cells": [
  {
   "cell_type": "markdown",
   "id": "f5c17e93",
   "metadata": {},
   "source": [
    "Here to learn the memory Management in LLM"
   ]
  },
  {
   "cell_type": "code",
   "execution_count": 48,
   "id": "c464e53a",
   "metadata": {},
   "outputs": [
    {
     "name": "stdout",
     "output_type": "stream",
     "text": [
      "Ollama client initialized.\n",
      "qllama/bge-reranker-large:latest\n"
     ]
    }
   ],
   "source": [
    "import ollama\n",
    "import os\n",
    "import traceback\n",
    "import ollama\n",
    "\n",
    "# Langchain Core/Community imports\n",
    "from langchain_community.document_loaders import PyPDFLoader, TextLoader\n",
    "from langchain.text_splitter import RecursiveCharacterTextSplitter\n",
    "from langchain_core.documents import Document\n",
    "from langchain_core.output_parsers import StrOutputParser\n",
    "from langchain_core.prompts import ChatPromptTemplate, MessagesPlaceholder\n",
    "# Ensure AIMessage is imported\n",
    "from langchain_core.messages import HumanMessage, AIMessage\n",
    "from langchain_core.runnables import RunnablePassthrough\n",
    "\n",
    "# Ollama/Chroma imports\n",
    "from langchain_ollama import ChatOllama, OllamaEmbeddings\n",
    "from langchain_chroma import Chroma\n",
    "from chromadb import PersistentClient\n",
    "\n",
    "ollmaclient = ollama.Client(host=\"http://localhost:11434/\")\n",
    "print(\"Ollama client initialized.\")\n",
    "print(ollmaclient.list().models[0].model)\n",
    "llm_model_name = \"mistral\"\n",
    "llm = ChatOllama(model=llm_model_name, temperature=0.1)\n",
    "# print(llm.invoke(\"Hello, world!\"))"
   ]
  },
  {
   "cell_type": "code",
   "execution_count": 49,
   "id": "0012dce3",
   "metadata": {},
   "outputs": [],
   "source": [
    "# !pip install wikipedia"
   ]
  },
  {
   "cell_type": "code",
   "execution_count": 50,
   "id": "451d6e68",
   "metadata": {},
   "outputs": [],
   "source": [
    "from langchain.tools import WikipediaQueryRun\n",
    "from langchain_community.utilities import WikipediaAPIWrapper\n",
    "\n",
    "wikipedia = WikipediaQueryRun(api_wrapper=WikipediaAPIWrapper())"
   ]
  },
  {
   "cell_type": "code",
   "execution_count": 51,
   "id": "4f24f3f0",
   "metadata": {},
   "outputs": [],
   "source": [
    "# wikipedia.run(\"What is the capital of France?\")"
   ]
  },
  {
   "cell_type": "code",
   "execution_count": 52,
   "id": "4fa87ff8",
   "metadata": {},
   "outputs": [
    {
     "name": "stdout",
     "output_type": "stream",
     "text": [
      "Akashkansal\n"
     ]
    }
   ],
   "source": [
    "!huggingface-cli whoami\n"
   ]
  },
  {
   "cell_type": "code",
   "execution_count": 53,
   "id": "62add582",
   "metadata": {},
   "outputs": [
    {
     "name": "stdout",
     "output_type": "stream",
     "text": [
      "LLM with tools initialized.\n"
     ]
    }
   ],
   "source": [
    "tools = [wikipedia]\n",
    "llm_with_tools = llm.bind_tools(tools)\n",
    "print(\"LLM with tools initialized.\")"
   ]
  },
  {
   "cell_type": "markdown",
   "id": "c364a2e5",
   "metadata": {},
   "source": [
    "Create Prompt Tempelate with history"
   ]
  },
  {
   "cell_type": "code",
   "execution_count": 54,
   "id": "d023306e",
   "metadata": {},
   "outputs": [],
   "source": [
    "from langchain_core.prompts import ChatPromptTemplate, MessagesPlaceholder\n",
    "from langchain_core.prompts import SystemMessagePromptTemplate, HumanMessagePromptTemplate\n",
    "\n",
    "prompt = ChatPromptTemplate.from_messages([\n",
    "    SystemMessagePromptTemplate.from_template(\"You are a helpful assistant.\"),\n",
    "    MessagesPlaceholder(variable_name=\"chat_history\"),\n",
    "    HumanMessagePromptTemplate.from_template(\"{input}\"),\n",
    "    MessagesPlaceholder(variable_name=\"agent_scratchpad\"),\n",
    "])"
   ]
  },
  {
   "cell_type": "code",
   "execution_count": 55,
   "id": "299dd33e",
   "metadata": {},
   "outputs": [],
   "source": [
    "from langchain.agents.format_scratchpad.tools import format_to_tool_messages\n",
    "# from langchain.agents.output_parsers import AgentOutputParser\n",
    "from langchain.agents.output_parsers.tools import ToolsAgentOutputParser\n",
    "from langchain_core.prompts import ChatPromptTemplate, MessagesPlaceholder\n",
    "from langchain_core.runnables import RunnableMap\n",
    "from langchain_community.chat_models import ChatOllama\n",
    "\n",
    "# Simple output parser\n",
    "class SimpleAgentOutputParser(ToolsAgentOutputParser):\n",
    "    def parse(self, text):\n",
    "        return text.strip()\n",
    "\n",
    "# Agent pipeline\n",
    "agent = (\n",
    "    RunnableMap({\n",
    "        \"input\": lambda x: x[\"input\"],\n",
    "        \"chat_history\": lambda x: x.get(\"chat_history\", []),\n",
    "        \"agent_scratchpad\": lambda x: format_to_tool_messages(x.get(\"intermediate_steps\", [])),\n",
    "    })\n",
    "    | prompt\n",
    "    | llm\n",
    "    | SimpleAgentOutputParser()\n",
    ")"
   ]
  },
  {
   "cell_type": "code",
   "execution_count": 56,
   "id": "69fe8988",
   "metadata": {},
   "outputs": [],
   "source": [
    "from langchain.agents import AgentExecutor\n",
    "\n",
    "agent_executor = AgentExecutor(\n",
    "    agent=agent,\n",
    "    tools=tools,\n",
    "    verbose=True,\n",
    ")"
   ]
  },
  {
   "cell_type": "code",
   "execution_count": null,
   "id": "847b2385",
   "metadata": {},
   "outputs": [],
   "source": [
    "from langchain.memory import ChatMessageHistory\n",
    "\n",
    "chat_history = ChatMessageHistory()\n",
    "# query = \"What is the capital of India?\"\n",
    "query = \"Who won the 2018 Fifa Wordcup?\"\n",
    "\n",
    "response  = agent_executor({\"input\": query, \"chat_history\": chat_history.messages})\n",
    "print(\"Response:\", response) \n",
    "chat_history.add_user_message(query)\n",
    "if isinstance(response, dict):\n",
    "    response_content = response.get('output', '')  # Adjust key as needed\n",
    "else:\n",
    "    response_content = response\n",
    "\n",
    "chat_history.add_ai_message(response_content)\n",
    "print(\"Updated chat history:\", chat_history.messages)"
   ]
  },
  {
   "cell_type": "code",
   "execution_count": null,
   "id": "95f2c32e",
   "metadata": {},
   "outputs": [],
   "source": [
    "\n",
    "query = \"when france won the first world cup?\"\n",
    "response = agent_executor({\"input\": query, \"chat_history\": chat_history.messages})\n",
    "print(\"Response:\", response['output'])"
   ]
  }
 ],
 "metadata": {
  "kernelspec": {
   "display_name": "Python 3",
   "language": "python",
   "name": "python3"
  },
  "language_info": {
   "codemirror_mode": {
    "name": "ipython",
    "version": 3
   },
   "file_extension": ".py",
   "mimetype": "text/x-python",
   "name": "python",
   "nbconvert_exporter": "python",
   "pygments_lexer": "ipython3",
   "version": "3.11.9"
  }
 },
 "nbformat": 4,
 "nbformat_minor": 5
}
